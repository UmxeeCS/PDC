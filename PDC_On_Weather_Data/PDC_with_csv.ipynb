{
 "cells": [
  {
   "cell_type": "code",
   "execution_count": null,
   "id": "2d357f39",
   "metadata": {},
   "outputs": [
    {
     "name": "stdout",
     "output_type": "stream",
     "text": [
      "Original Data:\n",
      "         Date  Temperature\n",
      "0  2024-01-01     8.727006\n",
      "1  2024-01-02    37.535715\n",
      "2  2024-01-03    26.599697\n",
      "3  2024-01-04    19.932924\n",
      "4  2024-01-05    -2.199068\n",
      "\n",
      "Sorting temperatures...\n"
     ]
    }
   ],
   "source": [
    "import multiprocessing\n",
    "import pandas as pd\n",
    "\n",
    "# Helper function: Merge two sorted lists\n",
    "def merge(left, right):\n",
    "    sorted_list = []\n",
    "    i = j = 0\n",
    "\n",
    "    while i < len(left) and j < len(right):\n",
    "        if left[i] < right[j]:\n",
    "            sorted_list.append(left[i])\n",
    "            i += 1\n",
    "        else:\n",
    "            sorted_list.append(right[j])\n",
    "            j += 1\n",
    "\n",
    "    sorted_list.extend(left[i:])\n",
    "    sorted_list.extend(right[j:])\n",
    "    return sorted_list\n",
    "\n",
    "# Parallel Merge Sort function\n",
    "def parallel_merge_sort(data):\n",
    "    if len(data) <= 1:\n",
    "        return data\n",
    "\n",
    "    if len(data) < 1000:  # Threshold for switching to sequential sorting\n",
    "        return sorted(data)\n",
    "\n",
    "    mid = len(data) // 2\n",
    "\n",
    "    with multiprocessing.Pool(processes=2) as pool:\n",
    "        left, right = pool.map(parallel_merge_sort, [data[:mid], data[mid:]])\n",
    "\n",
    "    return merge(left, right)\n",
    "\n",
    "# Main function\n",
    "if __name__ == \"__main__\":\n",
    "    # Read weather data from CSV file\n",
    "    input_file = \"weather_data.csv\"  # Replace with the actual file path\n",
    "    df = pd.read_csv(input_file)\n",
    "\n",
    "    print(\"Original Data:\")\n",
    "    print(df.head())\n",
    "\n",
    "    # Extract temperature column for sorting\n",
    "    temperatures = df[\"Temperature\"].tolist()\n",
    "\n",
    "    # Sort temperatures using Parallel Merge Sort\n",
    "    print(\"\\nSorting temperatures...\")\n",
    "    sorted_temperatures = parallel_merge_sort(temperatures)\n",
    "\n",
    "    # Update the DataFrame with sorted temperatures\n",
    "    df[\"Temperature\"] = sorted_temperatures\n",
    "\n",
    "    print(\"\\nSorted Data:\")\n",
    "    print(df.head())\n",
    "\n",
    "    # Save the sorted data to a new CSV file\n",
    "    output_file = \"sorted_weather_data.csv\"  # Name of the output file\n",
    "    df.to_csv(output_file, index=False)\n",
    "    print(f\"\\nSorted data saved to '{output_file}'.\")\n"
   ]
  },
  {
   "cell_type": "code",
   "execution_count": 1,
   "id": "6f3b0744",
   "metadata": {},
   "outputs": [
    {
     "ename": "NameError",
     "evalue": "name 'pd' is not defined",
     "output_type": "error",
     "traceback": [
      "\u001b[1;31m---------------------------------------------------------------------------\u001b[0m",
      "\u001b[1;31mNameError\u001b[0m                                 Traceback (most recent call last)",
      "\u001b[1;32m~\\AppData\\Local\\Temp\\ipykernel_1064\\1516113984.py\u001b[0m in \u001b[0;36m<module>\u001b[1;34m\u001b[0m\n\u001b[0;32m      2\u001b[0m     \u001b[1;31m# Read weather data from CSV file\u001b[0m\u001b[1;33m\u001b[0m\u001b[1;33m\u001b[0m\u001b[0m\n\u001b[0;32m      3\u001b[0m     \u001b[0minput_file\u001b[0m \u001b[1;33m=\u001b[0m \u001b[1;34m\"weather_data.csv\"\u001b[0m  \u001b[1;31m# Replace with the actual file path\u001b[0m\u001b[1;33m\u001b[0m\u001b[1;33m\u001b[0m\u001b[0m\n\u001b[1;32m----> 4\u001b[1;33m     \u001b[0mdf\u001b[0m \u001b[1;33m=\u001b[0m \u001b[0mpd\u001b[0m\u001b[1;33m.\u001b[0m\u001b[0mread_csv\u001b[0m\u001b[1;33m(\u001b[0m\u001b[0minput_file\u001b[0m\u001b[1;33m)\u001b[0m\u001b[1;33m\u001b[0m\u001b[1;33m\u001b[0m\u001b[0m\n\u001b[0m\u001b[0;32m      5\u001b[0m \u001b[1;33m\u001b[0m\u001b[0m\n\u001b[0;32m      6\u001b[0m     \u001b[0mprint\u001b[0m\u001b[1;33m(\u001b[0m\u001b[1;34m\"Original Data:\"\u001b[0m\u001b[1;33m)\u001b[0m\u001b[1;33m\u001b[0m\u001b[1;33m\u001b[0m\u001b[0m\n",
      "\u001b[1;31mNameError\u001b[0m: name 'pd' is not defined"
     ]
    }
   ],
   "source": [
    "if __name__ == \"__main__\":\n",
    "    # Read weather data from CSV file\n",
    "    input_file = \"weather_data.csv\"  # Replace with the actual file path\n",
    "    df = pd.read_csv(input_file)\n",
    "\n",
    "    print(\"Original Data:\")\n",
    "    print(df.head())\n",
    "\n",
    "    # Extract temperature column for sorting\n",
    "    temperatures = df[\"Temperature\"].tolist()\n"
   ]
  },
  {
   "cell_type": "code",
   "execution_count": 1,
   "id": "480ff4fe",
   "metadata": {},
   "outputs": [],
   "source": [
    "import multiprocessing\n",
    "import pandas as pd\n"
   ]
  },
  {
   "cell_type": "code",
   "execution_count": 2,
   "id": "c8dbb98e",
   "metadata": {},
   "outputs": [],
   "source": [
    "def merge(left, right):\n",
    "    sorted_list = []\n",
    "    i = j = 0\n",
    "\n",
    "    while i < len(left) and j < len(right):\n",
    "        if left[i] < right[j]:\n",
    "            sorted_list.append(left[i])\n",
    "            i += 1\n",
    "        else:\n",
    "            sorted_list.append(right[j])\n",
    "            j += 1\n",
    "\n",
    "    sorted_list.extend(left[i:])\n",
    "    sorted_list.extend(right[j:])\n",
    "    return sorted_list"
   ]
  },
  {
   "cell_type": "code",
   "execution_count": 3,
   "id": "c9b02ca5",
   "metadata": {},
   "outputs": [],
   "source": [
    "def parallel_merge_sort(data):\n",
    "    if len(data) <= 1:\n",
    "        return data\n",
    "\n",
    "    if len(data) < 1000:  # Threshold for switching to sequential sorting\n",
    "        return sorted(data)\n",
    "\n",
    "    mid = len(data) // 2\n",
    "\n",
    "    with multiprocessing.Pool(processes=2) as pool:\n",
    "        left, right = pool.map(parallel_merge_sort, [data[:mid], data[mid:]])\n",
    "\n",
    "    return merge(left, right)\n"
   ]
  },
  {
   "cell_type": "code",
   "execution_count": null,
   "id": "9af889dd",
   "metadata": {},
   "outputs": [
    {
     "name": "stdout",
     "output_type": "stream",
     "text": [
      "Original Data:\n",
      "         Date  Temperature\n",
      "0  2024-01-01     8.727006\n",
      "1  2024-01-02    37.535715\n",
      "2  2024-01-03    26.599697\n",
      "3  2024-01-04    19.932924\n",
      "4  2024-01-05    -2.199068\n",
      "\n",
      "Sorting temperatures...\n"
     ]
    }
   ],
   "source": [
    "if __name__ == \"__main__\":\n",
    "    # Step 1: Specify the input CSV file containing weather data\n",
    "    input_file = \"weather_data.csv\"\n",
    "\n",
    "    # Step 2: Read the CSV file into a pandas DataFrame\n",
    "    df = pd.read_csv(input_file)\n",
    "    # At this point, the DataFrame 'df' contains the original weather data.\n",
    "    # Columns: 'Date' and 'Temperature'\n",
    "\n",
    "    # Step 3: Display the first few rows of the original data\n",
    "    print(\"Original Data:\")\n",
    "    print(df.head())\n",
    "    # This prints the first 5 rows of the original data, so you can see the unsorted temperatures.\n",
    "\n",
    "    # Step 4: Extract the 'Temperature' column and convert it to a list for sorting\n",
    "    temperatures = df[\"Temperature\"].tolist()\n",
    "    # This creates a Python list of temperatures from the DataFrame column.\n",
    "\n",
    "    # Step 5: Inform the user that sorting has started\n",
    "    print(\"\\nSorting temperatures...\")\n",
    "\n",
    "    # Step 6: Sort the temperatures using the parallel merge sort function\n",
    "    sorted_temperatures = parallel_merge_sort(temperatures)\n",
    "    # The 'parallel_merge_sort' function is called here.\n",
    "    # It splits the list, sorts it in parallel, and merges it back.\n",
    "\n",
    "    # Step 7: Replace the 'Temperature' column in the DataFrame with the sorted values\n",
    "    df[\"Temperature\"] = sorted_temperatures\n",
    "    # This updates the DataFrame so the 'Temperature' column now contains sorted data.\n",
    "\n",
    "    # Step 8: Display the first few rows of the sorted data\n",
    "    print(\"\\nSorted Data:\")\n",
    "    print(df.head())\n",
    "    # This prints the first 5 rows of the updated DataFrame to confirm the sorting worked.\n",
    "\n",
    "    # Step 9: Save the sorted DataFrame to a new CSV file\n",
    "    output_file = \"sorted_weather_data.csv\"\n",
    "    df.to_csv(output_file, index=False)\n",
    "    # The sorted DataFrame is written to a file named 'sorted_weather_data.csv'.\n",
    "    # 'index=False' ensures that the row index is not included in the CSV file.\n",
    "\n",
    "    # Step 10: Inform the user that the sorted data has been saved\n",
    "    print(f\"\\nSorted data saved to '{output_file}'.\")\n",
    "    # This message confirms that the sorted file has been successfully saved.\n"
   ]
  },
  {
   "cell_type": "code",
   "execution_count": null,
   "id": "d364178e",
   "metadata": {},
   "outputs": [],
   "source": []
  }
 ],
 "metadata": {
  "kernelspec": {
   "display_name": "Python 3 (ipykernel)",
   "language": "python",
   "name": "python3"
  },
  "language_info": {
   "codemirror_mode": {
    "name": "ipython",
    "version": 3
   },
   "file_extension": ".py",
   "mimetype": "text/x-python",
   "name": "python",
   "nbconvert_exporter": "python",
   "pygments_lexer": "ipython3",
   "version": "3.9.13"
  }
 },
 "nbformat": 4,
 "nbformat_minor": 5
}

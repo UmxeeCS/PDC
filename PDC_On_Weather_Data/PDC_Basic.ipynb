{
 "cells": [
  {
   "cell_type": "code",
   "execution_count": null,
   "id": "011c35be",
   "metadata": {},
   "outputs": [
    {
     "name": "stdout",
     "output_type": "stream",
     "text": [
      "Original Data:\n",
      "        Date  Temperature\n",
      "0 2024-01-01     8.727006\n",
      "1 2024-01-02    37.535715\n",
      "2 2024-01-03    26.599697\n",
      "3 2024-01-04    19.932924\n",
      "4 2024-01-05    -2.199068\n",
      "\n",
      "Sorting temperatures...\n"
     ]
    }
   ],
   "source": [
    "import multiprocessing\n",
    "import pandas as pd\n",
    "import numpy as np\n",
    "\n",
    "# Helper function: Merge two sorted lists\n",
    "def merge(left, right):\n",
    "    sorted_list = []\n",
    "    i = j = 0\n",
    "\n",
    "    while i < len(left) and j < len(right):\n",
    "        if left[i] < right[j]:\n",
    "            sorted_list.append(left[i])\n",
    "            i += 1\n",
    "        else:\n",
    "            sorted_list.append(right[j])\n",
    "            j += 1\n",
    "\n",
    "    sorted_list.extend(left[i:])\n",
    "    sorted_list.extend(right[j:])\n",
    "    return sorted_list\n",
    "\n",
    "# Parallel Merge Sort function\n",
    "def parallel_merge_sort(data):\n",
    "    if len(data) <= 1:\n",
    "        return data\n",
    "\n",
    "    if len(data) < 1000:  # Threshold for switching to sequential sorting\n",
    "        return sorted(data)\n",
    "\n",
    "    mid = len(data) // 2\n",
    "\n",
    "    with multiprocessing.Pool(processes=2) as pool:\n",
    "        left, right = pool.map(parallel_merge_sort, [data[:mid], data[mid:]])\n",
    "\n",
    "    return merge(left, right)\n",
    "\n",
    "# Main function\n",
    "if __name__ == \"__main__\":\n",
    "    # Simulating weather data (daily temperatures for demonstration)\n",
    "    np.random.seed(42)\n",
    "    num_records = 10000  # Adjust the number of records for testing\n",
    "    weather_data = {\n",
    "        \"Date\": pd.date_range(start=\"2024-01-01\", periods=num_records, freq=\"D\"),\n",
    "        \"Temperature\": np.random.uniform(-10, 40, size=num_records)  # Random temperatures in Celsius\n",
    "    }\n",
    "\n",
    "    # Convert to DataFrame\n",
    "    df = pd.DataFrame(weather_data)\n",
    "    print(\"Original Data:\")\n",
    "    print(df.head())\n",
    "\n",
    "    # Extract temperature column for sorting\n",
    "    temperatures = df[\"Temperature\"].tolist()\n",
    "\n",
    "    # Sort temperatures using Parallel Merge Sort\n",
    "    print(\"\\nSorting temperatures...\")\n",
    "    sorted_temperatures = parallel_merge_sort(temperatures)\n",
    "\n",
    "    # Update the DataFrame with sorted temperatures\n",
    "    df[\"Temperature\"] = sorted_temperatures\n",
    "\n",
    "    print(\"\\nSorted Data:\")\n",
    "    print(df.head())\n",
    "\n",
    "    # Save the sorted data to a CSV file\n",
    "    df.to_csv(\"sorted_weather_data.csv\", index=False)\n",
    "    print(\"\\nSorted data saved to 'sorted_weather_data.csv'.\")\n"
   ]
  },
  {
   "cell_type": "code",
   "execution_count": null,
   "id": "a77d5d6e",
   "metadata": {},
   "outputs": [],
   "source": []
  }
 ],
 "metadata": {
  "kernelspec": {
   "display_name": "Python 3 (ipykernel)",
   "language": "python",
   "name": "python3"
  },
  "language_info": {
   "codemirror_mode": {
    "name": "ipython",
    "version": 3
   },
   "file_extension": ".py",
   "mimetype": "text/x-python",
   "name": "python",
   "nbconvert_exporter": "python",
   "pygments_lexer": "ipython3",
   "version": "3.9.13"
  }
 },
 "nbformat": 4,
 "nbformat_minor": 5
}
